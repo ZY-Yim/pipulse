{
 "cells": [
  {
   "cell_type": "code",
   "execution_count": 70,
   "metadata": {},
   "outputs": [],
   "source": [
    "import numpy as np\n",
    "import matplotlib.pyplot as plt\n",
    "import seaborn as sns\n",
    "from itertools import product \n",
    "import pandas as pd\n",
    "from sklearn.cluster import KMeans\n",
    "from time import time\n",
    "import os\n",
    "%matplotlib qt"
   ]
  },
  {
   "cell_type": "code",
   "execution_count": 65,
   "metadata": {},
   "outputs": [],
   "source": [
    "def run_sudoku(E,I,eps = 0.01,time = 300):\n",
    "    n = 81\n",
    "\n",
    "    space = np.zeros((n,int(time/eps)))\n",
    "    \n",
    "    metric = np.inf*np.ones(9)\n",
    "\n",
    "    def U(x,gamma=1,I=1.01):\n",
    "        tif = -1/gamma*np.log(1-(gamma/I))\n",
    "        return I/gamma*(1-np.exp(-tif*x))\n",
    "\n",
    "    def H(x,strength,gamma=1,I=1.01):\n",
    "        tif = -1/gamma*np.log(1-(gamma/I))\n",
    "        return 1/tif * np.log(1/(np.exp(-tif*x)-(gamma/I)*strength))\n",
    "\n",
    "    inh = np.load(\"sudoku.npy\")\n",
    "    exi = 1-inh\n",
    "    np.fill_diagonal(exi,0.0)\n",
    "    \n",
    "    state = np.random.normal(size=n)%1\n",
    "\n",
    "    for i in range(int(time/eps)):\n",
    "\n",
    "        fire_time = np.min(1-state)   \n",
    "\n",
    "        state = state + fire_time\n",
    "\n",
    "        new_state = (state+eps)\n",
    "\n",
    "        m = 0\n",
    "        while np.sum(new_state>1)>0:\n",
    "            if m>1000:\n",
    "                return False,state,metric\n",
    "            m+=1\n",
    "\n",
    "            fire = new_state>1\n",
    "\n",
    "            new_state[fire] = 0.0\n",
    "\n",
    "            coupling_exi = E*(np.matmul(exi,fire)>0)\n",
    "            coupling_inh = I*np.matmul(inh,fire)\n",
    "\n",
    "            total = coupling_exi-coupling_inh\n",
    "\n",
    "            state = new_state\n",
    "            new_state = np.clip(H(state,total),a_min=0,a_max=None)\n",
    "            \n",
    "            if np.isnan(new_state.sum()):\n",
    "                return False,state,metric\n",
    "\n",
    "        state = new_state\n",
    "        space[:,i] = state\n",
    "    \n",
    "    \n",
    "    df = pd.DataFrame(space[:,-100:])\n",
    "    model = KMeans(n_clusters=9)\n",
    "    pred = model.fit_predict(df)\n",
    "    \n",
    "    for i in range(9):\n",
    "        temp = np.arange(0,81,1,dtype=np.int32)[pred==i]\n",
    "        sum_ = 0\n",
    "        for j,k in product(temp,temp):\n",
    "            sum_ += inh[j,k]\n",
    "        metric[i]=sum_\n",
    "    \n",
    "    return True,space,metric"
   ]
  },
  {
   "cell_type": "code",
   "execution_count": 66,
   "metadata": {},
   "outputs": [],
   "source": [
    "E = 1/10**np.linspace(1,5,2)\n",
    "I = 1/10**np.linspace(1,5,2)"
   ]
  },
  {
   "cell_type": "code",
   "execution_count": null,
   "metadata": {
    "scrolled": false
   },
   "outputs": [
    {
     "name": "stderr",
     "output_type": "stream",
     "text": [
      "/home/iiser/.conda/envs/venv/lib/python3.6/site-packages/ipykernel_launcher.py:14: RuntimeWarning: invalid value encountered in log\n",
      "  \n"
     ]
    }
   ],
   "source": [
    "succ_mat = np.zeros((E.shape[0],I.shape[0]))\n",
    "metric_mat = np.zeros((E.shape[0],I.shape[0]))\n",
    "time_mat = np.zeros((E.shape[0],I.shape[0]))\n",
    "\n",
    "for x,e in enumerate(E):\n",
    "    for y,i in enumerate(I):\n",
    "        t = time()\n",
    "        success,space,metric = run_sudoku(e,i)\n",
    "        time_mat[x,y] = time()-t\n",
    "        succ_mat[x,y] = success\n",
    "        metric_mat[x,y] = np.sum(metric)\n",
    "        \n",
    "        dirname =\"E \"+str(e)+\" I \"+str(i)\n",
    "        os.mkdir(dirname)\n",
    "        np.save(dirname+'/as',space)"
   ]
  },
  {
   "cell_type": "code",
   "execution_count": 68,
   "metadata": {},
   "outputs": [
    {
     "data": {
      "text/plain": [
       "array([[ inf,  inf],\n",
       "       [525., 183.]])"
      ]
     },
     "execution_count": 68,
     "metadata": {},
     "output_type": "execute_result"
    }
   ],
   "source": [
    "metric_mat"
   ]
  },
  {
   "cell_type": "code",
   "execution_count": null,
   "metadata": {},
   "outputs": [],
   "source": []
  }
 ],
 "metadata": {
  "kernelspec": {
   "display_name": "Python 3",
   "language": "python",
   "name": "python3"
  },
  "language_info": {
   "codemirror_mode": {
    "name": "ipython",
    "version": 3
   },
   "file_extension": ".py",
   "mimetype": "text/x-python",
   "name": "python",
   "nbconvert_exporter": "python",
   "pygments_lexer": "ipython3",
   "version": "3.6.6"
  }
 },
 "nbformat": 4,
 "nbformat_minor": 2
}
