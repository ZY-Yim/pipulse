{
 "cells": [
  {
   "cell_type": "code",
   "execution_count": 30,
   "metadata": {},
   "outputs": [],
   "source": [
    "import numpy as np\n",
    "import matplotlib.pyplot as plt\n",
    "import seaborn as sns\n",
    "%matplotlib qt"
   ]
  },
  {
   "cell_type": "code",
   "execution_count": 93,
   "metadata": {},
   "outputs": [],
   "source": [
    "n = 81\n",
    "eps = 0.01\n",
    "time = 100\n",
    "space = np.zeros((n,int(time/eps)))\n",
    "\n",
    "def H(x,strength,b=2):\n",
    "    return np.exp(b*strength)*x+ (np.exp(b*strength)-1)/(np.exp(b)-1)\n",
    "\n",
    "exi = 1-np.load(\"sudoku.npy\")#np.ones((n,n))#np.random.choice([0,1],size=(n,n),p=[0.5,0.5])\n",
    "np.fill_diagonal(exi,0.0)\n",
    "\n",
    "inh = np.load(\"sudoku.npy\")#np.random.choice([0,1],size=(n,n),p=[0.5,0.5])\n",
    "#np.fill_diagonal(inh,0.0)\n"
   ]
  },
  {
   "cell_type": "code",
   "execution_count": 111,
   "metadata": {
    "scrolled": false
   },
   "outputs": [
    {
     "name": "stdout",
     "output_type": "stream",
     "text": [
      "Progress 99.0 %\r"
     ]
    }
   ],
   "source": [
    "state = np.random.normal(size=n)\n",
    "\n",
    "for i in range(int(time/eps)):\n",
    "    new_state = (state+eps)%1\n",
    "    \n",
    "    while np.sum(new_state<state)>0:\n",
    "        #print(np.sum(new_state<state))\n",
    "        fire = new_state<state\n",
    "        coupling_exi = 0.0001*np.matmul(exi,fire)\n",
    "        coupling_inh = -0.0001*np.matmul(inh,fire)\n",
    "        \n",
    "        total = coupling_exi-coupling_inh\n",
    "        #print(total)\n",
    "        \n",
    "        state = new_state\n",
    "        new_state = H(state,total)%1\n",
    "    \n",
    "    state = new_state\n",
    "    space[:,i] = state\n",
    "    if i%int(1/eps) == 0:\n",
    "        print('Progress',round(i/int(time/eps)*100,1),\"%\",end=\"\\r\")"
   ]
  },
  {
   "cell_type": "code",
   "execution_count": 112,
   "metadata": {},
   "outputs": [
    {
     "data": {
      "text/plain": [
       "<matplotlib.axes._subplots.AxesSubplot at 0x7fa05e485e10>"
      ]
     },
     "execution_count": 112,
     "metadata": {},
     "output_type": "execute_result"
    }
   ],
   "source": [
    "plt.figure(figsize=(15,5))\n",
    "sns.heatmap(space[:,9000:10000])"
   ]
  },
  {
   "cell_type": "code",
   "execution_count": 87,
   "metadata": {},
   "outputs": [],
   "source": [
    "x=np.arange(0,1,0.01)\n",
    "for b in [0.5,1,2,5,10]:\n",
    "    plt.plot(x,1/b*np.log(1+(np.exp(b)-1)*x),label='b='+str(b))\n",
    "plt.legend()\n",
    "plt.show()"
   ]
  },
  {
   "cell_type": "code",
   "execution_count": 118,
   "metadata": {},
   "outputs": [
    {
     "data": {
      "text/plain": [
       "[<matplotlib.lines.Line2D at 0x7ff6f401c160>]"
      ]
     },
     "execution_count": 118,
     "metadata": {},
     "output_type": "execute_result"
    }
   ],
   "source": [
    "plt.plot(space.mean(axis=0))"
   ]
  },
  {
   "cell_type": "code",
   "execution_count": null,
   "metadata": {},
   "outputs": [],
   "source": []
  }
 ],
 "metadata": {
  "kernelspec": {
   "display_name": "Python 3",
   "language": "python",
   "name": "python3"
  },
  "language_info": {
   "codemirror_mode": {
    "name": "ipython",
    "version": 3
   },
   "file_extension": ".py",
   "mimetype": "text/x-python",
   "name": "python",
   "nbconvert_exporter": "python",
   "pygments_lexer": "ipython3",
   "version": "3.6.6"
  }
 },
 "nbformat": 4,
 "nbformat_minor": 2
}
