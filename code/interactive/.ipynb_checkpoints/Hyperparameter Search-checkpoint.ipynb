{
 "cells": [
  {
   "cell_type": "code",
   "execution_count": 70,
   "metadata": {},
   "outputs": [],
   "source": [
    "import numpy as np\n",
    "import matplotlib.pyplot as plt\n",
    "import seaborn as sns\n",
    "from itertools import product \n",
    "import pandas as pd\n",
    "from sklearn.cluster import KMeans\n",
    "from time import time\n",
    "import os\n",
    "import datetime\n",
    "%matplotlib qt"
   ]
  },
  {
   "cell_type": "code",
   "execution_count": 65,
   "metadata": {},
   "outputs": [],
   "source": [
    "def run_sudoku(E,I,eps = 0.01,time = 300):\n",
    "    n = 81\n",
    "\n",
    "    space = np.zeros((n,int(time/eps)))\n",
    "    \n",
    "    metric = np.inf*np.ones(9)\n",
    "\n",
    "    def U(x,gamma=1,I=1.01):\n",
    "        tif = -1/gamma*np.log(1-(gamma/I))\n",
    "        return I/gamma*(1-np.exp(-tif*x))\n",
    "\n",
    "    def H(x,strength,gamma=1,I=1.01):\n",
    "        tif = -1/gamma*np.log(1-(gamma/I))\n",
    "        return 1/tif * np.log(1/(np.exp(-tif*x)-(gamma/I)*strength))\n",
    "\n",
    "    inh = np.load(\"sudoku.npy\")\n",
    "    exi = 1-inh\n",
    "    np.fill_diagonal(exi,0.0)\n",
    "    \n",
    "    state = np.random.normal(size=n)%1\n",
    "\n",
    "    for i in range(int(time/eps)):\n",
    "\n",
    "        fire_time = np.min(1-state)   \n",
    "\n",
    "        state = state + fire_time\n",
    "\n",
    "        new_state = (state+eps)\n",
    "\n",
    "        m = 0\n",
    "        while np.sum(new_state>1)>0:\n",
    "            if m>1000:\n",
    "                return False,state,metric\n",
    "            m+=1\n",
    "\n",
    "            fire = new_state>1\n",
    "\n",
    "            new_state[fire] = 0.0\n",
    "\n",
    "            coupling_exi = E*(np.matmul(exi,fire)>0)\n",
    "            coupling_inh = I*np.matmul(inh,fire)\n",
    "\n",
    "            total = coupling_exi-coupling_inh\n",
    "\n",
    "            state = new_state\n",
    "            new_state = np.clip(H(state,total),a_min=0,a_max=None)\n",
    "            \n",
    "            if np.isnan(new_state.sum()):\n",
    "                return False,state,metric\n",
    "\n",
    "        state = new_state\n",
    "        space[:,i] = state\n",
    "    \n",
    "    \n",
    "    df = pd.DataFrame(space[:,-100:])\n",
    "    model = KMeans(n_clusters=9)\n",
    "    pred = model.fit_predict(df)\n",
    "    \n",
    "    for i in range(9):\n",
    "        temp = np.arange(0,81,1,dtype=np.int32)[pred==i]\n",
    "        sum_ = 0\n",
    "        for j,k in product(temp,temp):\n",
    "            sum_ += inh[j,k]\n",
    "        metric[i]=sum_\n",
    "    \n",
    "    return True,space,metric"
   ]
  },
  {
   "cell_type": "code",
   "execution_count": 124,
   "metadata": {
    "scrolled": true
   },
   "outputs": [
    {
     "name": "stdout",
     "output_type": "stream",
     "text": [
      "Predicted Time: 5400 secs\n"
     ]
    },
    {
     "name": "stderr",
     "output_type": "stream",
     "text": [
      "/home/iiser/.conda/envs/venv/lib/python3.6/site-packages/sklearn/cluster/k_means_.py:971: ConvergenceWarning: Number of distinct clusters (7) found smaller than n_clusters (9). Possibly due to duplicate points in X.\n",
      "  return_n_iter=True)\n",
      "/home/iiser/.conda/envs/venv/lib/python3.6/site-packages/sklearn/cluster/k_means_.py:971: ConvergenceWarning: Number of distinct clusters (6) found smaller than n_clusters (9). Possibly due to duplicate points in X.\n",
      "  return_n_iter=True)\n",
      "/home/iiser/.conda/envs/venv/lib/python3.6/site-packages/sklearn/cluster/k_means_.py:971: ConvergenceWarning: Number of distinct clusters (8) found smaller than n_clusters (9). Possibly due to duplicate points in X.\n",
      "  return_n_iter=True)\n",
      "/home/iiser/.conda/envs/venv/lib/python3.6/site-packages/sklearn/cluster/k_means_.py:971: ConvergenceWarning: Number of distinct clusters (6) found smaller than n_clusters (9). Possibly due to duplicate points in X.\n",
      "  return_n_iter=True)\n",
      "/home/iiser/.conda/envs/venv/lib/python3.6/site-packages/sklearn/cluster/k_means_.py:971: ConvergenceWarning: Number of distinct clusters (6) found smaller than n_clusters (9). Possibly due to duplicate points in X.\n",
      "  return_n_iter=True)\n"
     ]
    },
    {
     "ename": "KeyboardInterrupt",
     "evalue": "",
     "output_type": "error",
     "traceback": [
      "\u001b[0;31m---------------------------------------------------------------------------\u001b[0m",
      "\u001b[0;31mKeyboardInterrupt\u001b[0m                         Traceback (most recent call last)",
      "\u001b[0;32m<ipython-input-124-a6220314cf62>\u001b[0m in \u001b[0;36m<module>\u001b[0;34m\u001b[0m\n\u001b[1;32m     21\u001b[0m         \u001b[0;32mfor\u001b[0m \u001b[0mz\u001b[0m \u001b[0;32min\u001b[0m \u001b[0mrange\u001b[0m\u001b[0;34m(\u001b[0m\u001b[0mreplicate\u001b[0m\u001b[0;34m)\u001b[0m\u001b[0;34m:\u001b[0m\u001b[0;34m\u001b[0m\u001b[0m\n\u001b[1;32m     22\u001b[0m             \u001b[0mt\u001b[0m \u001b[0;34m=\u001b[0m \u001b[0mtime\u001b[0m\u001b[0;34m(\u001b[0m\u001b[0;34m)\u001b[0m\u001b[0;34m\u001b[0m\u001b[0m\n\u001b[0;32m---> 23\u001b[0;31m             \u001b[0msuccess\u001b[0m\u001b[0;34m,\u001b[0m\u001b[0mspace\u001b[0m\u001b[0;34m,\u001b[0m\u001b[0mmetric\u001b[0m \u001b[0;34m=\u001b[0m \u001b[0mrun_sudoku\u001b[0m\u001b[0;34m(\u001b[0m\u001b[0me\u001b[0m\u001b[0;34m,\u001b[0m\u001b[0mi\u001b[0m\u001b[0;34m)\u001b[0m\u001b[0;34m\u001b[0m\u001b[0m\n\u001b[0m\u001b[1;32m     24\u001b[0m             \u001b[0mtime_mat\u001b[0m\u001b[0;34m[\u001b[0m\u001b[0mx\u001b[0m\u001b[0;34m,\u001b[0m\u001b[0my\u001b[0m\u001b[0;34m,\u001b[0m\u001b[0mz\u001b[0m\u001b[0;34m]\u001b[0m \u001b[0;34m=\u001b[0m \u001b[0mtime\u001b[0m\u001b[0;34m(\u001b[0m\u001b[0;34m)\u001b[0m\u001b[0;34m-\u001b[0m\u001b[0mt\u001b[0m\u001b[0;34m\u001b[0m\u001b[0m\n\u001b[1;32m     25\u001b[0m             \u001b[0msucc_mat\u001b[0m\u001b[0;34m[\u001b[0m\u001b[0mx\u001b[0m\u001b[0;34m,\u001b[0m\u001b[0my\u001b[0m\u001b[0;34m,\u001b[0m\u001b[0mz\u001b[0m\u001b[0;34m]\u001b[0m \u001b[0;34m=\u001b[0m \u001b[0msuccess\u001b[0m\u001b[0;34m\u001b[0m\u001b[0m\n",
      "\u001b[0;32m<ipython-input-65-e9bcd75a3df4>\u001b[0m in \u001b[0;36mrun_sudoku\u001b[0;34m(E, I, eps, time)\u001b[0m\n\u001b[1;32m     46\u001b[0m             \u001b[0mnew_state\u001b[0m \u001b[0;34m=\u001b[0m \u001b[0mnp\u001b[0m\u001b[0;34m.\u001b[0m\u001b[0mclip\u001b[0m\u001b[0;34m(\u001b[0m\u001b[0mH\u001b[0m\u001b[0;34m(\u001b[0m\u001b[0mstate\u001b[0m\u001b[0;34m,\u001b[0m\u001b[0mtotal\u001b[0m\u001b[0;34m)\u001b[0m\u001b[0;34m,\u001b[0m\u001b[0ma_min\u001b[0m\u001b[0;34m=\u001b[0m\u001b[0;36m0\u001b[0m\u001b[0;34m,\u001b[0m\u001b[0ma_max\u001b[0m\u001b[0;34m=\u001b[0m\u001b[0;32mNone\u001b[0m\u001b[0;34m)\u001b[0m\u001b[0;34m\u001b[0m\u001b[0m\n\u001b[1;32m     47\u001b[0m \u001b[0;34m\u001b[0m\u001b[0m\n\u001b[0;32m---> 48\u001b[0;31m             \u001b[0;32mif\u001b[0m \u001b[0mnp\u001b[0m\u001b[0;34m.\u001b[0m\u001b[0misnan\u001b[0m\u001b[0;34m(\u001b[0m\u001b[0mnew_state\u001b[0m\u001b[0;34m.\u001b[0m\u001b[0msum\u001b[0m\u001b[0;34m(\u001b[0m\u001b[0;34m)\u001b[0m\u001b[0;34m)\u001b[0m\u001b[0;34m:\u001b[0m\u001b[0;34m\u001b[0m\u001b[0m\n\u001b[0m\u001b[1;32m     49\u001b[0m                 \u001b[0;32mreturn\u001b[0m \u001b[0;32mFalse\u001b[0m\u001b[0;34m,\u001b[0m\u001b[0mstate\u001b[0m\u001b[0;34m,\u001b[0m\u001b[0mmetric\u001b[0m\u001b[0;34m\u001b[0m\u001b[0m\n\u001b[1;32m     50\u001b[0m \u001b[0;34m\u001b[0m\u001b[0m\n",
      "\u001b[0;31mKeyboardInterrupt\u001b[0m: "
     ]
    }
   ],
   "source": [
    "t0 = time()\n",
    "res = 30\n",
    "\n",
    "E = 1/10**np.linspace(2,3,res)\n",
    "I = 1/10**np.linspace(2,4,res)\n",
    "replicate = 3\n",
    "\n",
    "succ_mat = np.zeros((E.shape[0],I.shape[0],replicate))\n",
    "metric_mat = np.zeros((E.shape[0],I.shape[0],replicate))\n",
    "time_mat = np.zeros((E.shape[0],I.shape[0],replicate))\n",
    "\n",
    "if not os.path.exists(\"search\"):\n",
    "    os.mkdir(\"S \"+ datetime.datetime.now().strftime(\"%Y-%m-%d %H:%M\"))\n",
    "\n",
    "pred_time = res**2*max(2,time_mat.mean())*replicate\n",
    "print(\"Predicted Time:\",pred_time,\"secs\")\n",
    "    \n",
    "count = 0\n",
    "for x,e in enumerate(E):\n",
    "    for y,i in enumerate(I):\n",
    "        for z in range(replicate):\n",
    "            t = time()\n",
    "            success,space,metric = run_sudoku(e,i)\n",
    "            time_mat[x,y,z] = time()-t\n",
    "            succ_mat[x,y,z] = success\n",
    "            metric_mat[x,y,z] = np.sum(metric)\n",
    "            if np.sum(metric)<120:\n",
    "                dirname =\"search/\"+\"E \"+str(format(e,\".2e\"))+\" I \"+str(format(i,\".2e\"))+\" Replicate \"+str(z)\n",
    "                os.mkdir(dirname)\n",
    "                np.save(dirname+'/space',space)\n",
    "                np.save(dirname+'/metric',metric)\n",
    "    if count%100==0:\n",
    "        print('Progress',round((x+y)/(E.shape[0]*I.shape[0]),1),\"%\")\n",
    "    count+=1\n",
    "print(\"Total Time:\",time()-t0,\"secs\")"
   ]
  },
  {
   "cell_type": "code",
   "execution_count": 122,
   "metadata": {},
   "outputs": [
    {
     "data": {
      "text/plain": [
       "<matplotlib.axes._subplots.AxesSubplot at 0x7f4e926ae4e0>"
      ]
     },
     "execution_count": 122,
     "metadata": {},
     "output_type": "execute_result"
    }
   ],
   "source": [
    "sns.heatmap(metric_mat<100,xticklabels=[str(format(e,\".2e\")) for e in E],yticklabels=[str(format(i,\".2e\")) for i in I])"
   ]
  },
  {
   "cell_type": "code",
   "execution_count": 113,
   "metadata": {},
   "outputs": [
    {
     "data": {
      "text/plain": [
       "array([[ 143.,  117.,  145.,  167.,  141.,  233.,  257.,  405.,  657.,\n",
       "        1701.,  853.,  629.,  861., 1701., 1701.],\n",
       "       [  95.,  103.,  143.,  135.,  173.,  217.,  241.,  279.,  321.,\n",
       "         337.,  837.,  861.,  861., 1701., 1701.],\n",
       "       [ 117.,  107.,  107.,   93.,  141.,  151.,  183.,  229.,  281.,\n",
       "         439.,  409.,  507.,  437.,  861.,  459.],\n",
       "       [ 119.,   93.,  103.,   95.,  125.,  111.,   81.,  227.,  225.,\n",
       "         309.,  325.,  377.,  757.,  861.,  861.],\n",
       "       [  99.,  115.,  105.,  107.,  129.,  109.,   95.,  165.,  195.,\n",
       "         221.,  263.,  315.,  375.,  419.,  373.]])"
      ]
     },
     "execution_count": 113,
     "metadata": {},
     "output_type": "execute_result"
    }
   ],
   "source": [
    "metric_mat[20:25,15:30]"
   ]
  },
  {
   "cell_type": "code",
   "execution_count": 112,
   "metadata": {},
   "outputs": [
    {
     "data": {
      "text/plain": [
       "(0.0013257113655901094, 0.0019306977288832496)"
      ]
     },
     "execution_count": 112,
     "metadata": {},
     "output_type": "execute_result"
    }
   ],
   "source": [
    "E[23],I[21]"
   ]
  },
  {
   "cell_type": "code",
   "execution_count": null,
   "metadata": {},
   "outputs": [],
   "source": [
    "np.ma"
   ]
  },
  {
   "cell_type": "code",
   "execution_count": null,
   "metadata": {},
   "outputs": [],
   "source": []
  }
 ],
 "metadata": {
  "kernelspec": {
   "display_name": "Python 3",
   "language": "python",
   "name": "python3"
  },
  "language_info": {
   "codemirror_mode": {
    "name": "ipython",
    "version": 3
   },
   "file_extension": ".py",
   "mimetype": "text/x-python",
   "name": "python",
   "nbconvert_exporter": "python",
   "pygments_lexer": "ipython3",
   "version": "3.6.6"
  }
 },
 "nbformat": 4,
 "nbformat_minor": 2
}
