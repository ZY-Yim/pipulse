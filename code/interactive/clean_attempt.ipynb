{
 "cells": [
  {
   "cell_type": "code",
   "execution_count": 117,
   "metadata": {},
   "outputs": [],
   "source": [
    "import numpy as np\n",
    "import pandas as pd\n",
    "\n",
    "import matplotlib.pyplot as plt\n",
    "import seaborn as sns\n",
    "\n",
    "from itertools import product \n",
    "from sklearn.cluster import KMeans\n",
    "import os\n",
    "import sudoku as sudo\n",
    "\n",
    "%matplotlib qt"
   ]
  },
  {
   "cell_type": "code",
   "execution_count": 118,
   "metadata": {},
   "outputs": [
    {
     "name": "stdout",
     "output_type": "stream",
     "text": [
      "Progress 98.3 %\r"
     ]
    }
   ],
   "source": [
    "n = 81\n",
    "time = 60000\n",
    "space = np.zeros((n,int(time)))\n",
    "\n",
    "def U(x,gamma,I):\n",
    "    tif = -1/gamma*np.log(1-(gamma/I))\n",
    "    return I/gamma*(1-np.exp(-tif*x))\n",
    "\n",
    "def U_inv(x,gamma,I):\n",
    "    tif = -1/gamma*np.log(1-(gamma/I))\n",
    "    return -1/tif*np.log(1-(gamma/I)*x)\n",
    "\n",
    "def H(x,strength,gamma=1,I=1.008):\n",
    "    temp = np.clip(U(x,gamma=gamma,I=I)+strength,0,None)\n",
    "    fire = temp>=1\n",
    "    temp = (temp<1)*temp\n",
    "    return U_inv(temp,gamma=gamma,I=I),fire\n",
    "\n",
    "inh = np.load(\"sudoku.npy\")\n",
    "exi = 1-inh\n",
    "np.fill_diagonal(exi,0.0)\n",
    "np.fill_diagonal(inh,0.0)\n",
    "\n",
    "state = np.random.normal(size=n)%1\n",
    "\n",
    "for i in range(int(time)):\n",
    "    \n",
    "    fire_time = np.min(1-state)   \n",
    "    \n",
    "    state = state + fire_time\n",
    "    \n",
    "    new_state = state + 0.01\n",
    "    \n",
    "    fire = new_state>=1\n",
    "    \n",
    "    while np.sum(fire)>0:\n",
    "\n",
    "        new_state[fire] = 0.0\n",
    "        \n",
    "        coupling_exi = 0.0003*(np.matmul(exi,fire)>0)\n",
    "        coupling_inh = 0.0004*np.matmul(inh,fire)\n",
    "        \n",
    "        total = coupling_exi-coupling_inh\n",
    "        #print(total)\n",
    "        \n",
    "        state = new_state\n",
    "        update = H(state,total)\n",
    "        new_state,fire = np.clip(update[0],a_min=0,a_max=None),update[1]\n",
    "        \n",
    "    state = new_state\n",
    "    space[:,i] = state\n",
    "    if i%1000 == 0:\n",
    "        print('Progress',round(i/int(time)*100,1),\"%\",end=\"\\r\")"
   ]
  },
  {
   "cell_type": "code",
   "execution_count": 119,
   "metadata": {},
   "outputs": [],
   "source": [
    "rs =100\n",
    "phase = space[:,::rs]-space[0,::rs]\n",
    "phase[phase<0] = 1+phase[phase<0]\n",
    "\n",
    "plt.figure()\n",
    "cm = plt.cm.hsv(np.linspace(0.5,1,9))\n",
    "for i in range(81):\n",
    "    plt.plot(phase[i,:],'.',markersize=1)\n",
    "plt.show()"
   ]
  },
  {
   "cell_type": "code",
   "execution_count": 120,
   "metadata": {},
   "outputs": [
    {
     "name": "stdout",
     "output_type": "stream",
     "text": [
      "\n"
     ]
    }
   ],
   "source": [
    "df = pd.DataFrame(space[:,-1:])\n",
    "model = KMeans(n_clusters=11)\n",
    "pred = model.fit_predict(df)\n",
    "order = np.argsort(pred)\n",
    "#order = np.argsort(space[:,-1])\n",
    "fig = plt.figure(figsize=(15,10))\n",
    "g = sns.heatmap(space[order,-100:],yticklabels=2,xticklabels=100,cmap='viridis')\n",
    "#g = sns.heatmap(space[:,-100:],yticklabels=2,xticklabels=100,cmap='viridis')\n",
    "g.set_yticklabels(fig.axes[0].get_yticklabels(),rotation=0)\n",
    "print()"
   ]
  },
  {
   "cell_type": "code",
   "execution_count": 93,
   "metadata": {},
   "outputs": [],
   "source": [
    "from matplotlib.animation import FuncAnimation\n",
    "import matplotlib as mpl\n",
    "\n",
    "fig, ax = plt.subplots(figsize=(10,10))\n",
    "ax.set(xlim=(-1.5, 1.5), ylim=(-1.5, 1.5))\n",
    "\n",
    "def phasetopos(phi):\n",
    "    return np.cos(2*np.pi*phi), np.sin(2*np.pi*phi)\n",
    "\n",
    "temp = phasetopos(space[:,0])\n",
    "data = ax.plot(temp[0],temp[1],'o',alpha=0.5)[0]\n",
    "\n",
    "def animate(i):\n",
    "    temp = phasetopos(space[:,i])\n",
    "    data.set_xdata(temp[0])\n",
    "    data.set_ydata(temp[1])\n",
    "\n",
    "anim = FuncAnimation(\n",
    "    fig, animate, interval=10, frames=time-1,repeat=False)\n",
    " \n",
    "plt.draw()\n",
    "plt.show()"
   ]
  },
  {
   "cell_type": "code",
   "execution_count": 116,
   "metadata": {},
   "outputs": [
    {
     "name": "stdout",
     "output_type": "stream",
     "text": [
      "2\n",
      "10\n",
      "0\n",
      "8\n",
      "2\n",
      "2\n",
      "2\n",
      "2\n",
      "0\n",
      "12\n",
      "0\n"
     ]
    }
   ],
   "source": [
    "for i in range(11):\n",
    "    temp = np.arange(0,81,1,dtype=np.int32)[pred==i]\n",
    "    sum_ = 0\n",
    "    for j,k in product(temp,temp):\n",
    "        sum_ += inh[j,k]\n",
    "    print(sum_)"
   ]
  },
  {
   "cell_type": "code",
   "execution_count": 144,
   "metadata": {
    "scrolled": true
   },
   "outputs": [],
   "source": [
    "x = np.linspace(0,1,100)\n",
    "plt.plot(x,U(x,1,1.008))\n",
    "plt.plot(x,U_inv(x,1,1.008))\n",
    "plt.plot(x,H(x,np.ones(x.shape)*0.05,1,1.008)[0])\n",
    "plt.plot(x,x)\n",
    "\n",
    "plt.show()"
   ]
  },
  {
   "cell_type": "code",
   "execution_count": 137,
   "metadata": {},
   "outputs": [
    {
     "data": {
      "text/plain": [
       "(array([2.05231195e-04, 5.02315488e-01]), array([False, False]))"
      ]
     },
     "execution_count": 137,
     "metadata": {},
     "output_type": "execute_result"
    }
   ],
   "source": [
    "H(np.array([0,0.5]),[0.001,0.001],1,1.008)"
   ]
  },
  {
   "cell_type": "code",
   "execution_count": null,
   "metadata": {},
   "outputs": [],
   "source": []
  }
 ],
 "metadata": {
  "kernelspec": {
   "display_name": "Python 3",
   "language": "python",
   "name": "python3"
  },
  "language_info": {
   "codemirror_mode": {
    "name": "ipython",
    "version": 3
   },
   "file_extension": ".py",
   "mimetype": "text/x-python",
   "name": "python",
   "nbconvert_exporter": "python",
   "pygments_lexer": "ipython3",
   "version": "3.6.6"
  }
 },
 "nbformat": 4,
 "nbformat_minor": 2
}
